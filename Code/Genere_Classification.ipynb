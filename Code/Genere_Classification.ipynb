{
 "cells": [
  {
   "cell_type": "markdown",
   "metadata": {},
   "source": [
    "# Importing Libraries"
   ]
  },
  {
   "cell_type": "code",
   "execution_count": 1,
   "metadata": {},
   "outputs": [],
   "source": [
    "import pandas as pd\n",
    "import numpy as np\n",
    "\n",
    "import matplotlib.pyplot as plt\n",
    "import seaborn as sns\n",
    "\n",
    "import librosa\n",
    "import librosa.display\n",
    "from IPython.display import Audio\n",
    "import os,random\n",
    "\n",
    "from sklearn.preprocessing   import LabelEncoder, MinMaxScaler\n",
    "from sklearn.model_selection import train_test_split \n",
    "from sklearn.preprocessing   import StandardScaler\n",
    "from sklearn.svm             import SVC\n",
    "from sklearn.linear_model    import LogisticRegression\n",
    "from sklearn.neighbors       import KNeighborsClassifier\n",
    "from sklearn.model_selection import GridSearchCV\n",
    "from sklearn.metrics         import classification_report, confusion_matrix\n",
    "\n",
    "\n",
    "import warnings\n",
    "warnings.filterwarnings('ignore')\n",
    "\n",
    "\n",
    "features_folder = '/Users/harin_khakhi/Desktop/ML/Data'\n",
    "genres_folder   = '/Users/harin_khakhi/Desktop/ML/Data/genres_original'"
   ]
  },
  {
   "cell_type": "markdown",
   "metadata": {},
   "source": [
    "# Importing Data"
   ]
  },
  {
   "cell_type": "code",
   "execution_count": 2,
   "metadata": {},
   "outputs": [],
   "source": [
    "def get_data(filename):\n",
    "    data = pd.read_csv(filename)\n",
    "    X = data.drop(['length','label','filename','perceptr_mean','perceptr_var'], axis=1)\n",
    "    y = data['label']\n",
    "    return X,y,data"
   ]
  },
  {
   "cell_type": "code",
   "execution_count": 3,
   "metadata": {},
   "outputs": [],
   "source": [
    "dataset = f'{features_folder}/features_30_sec.csv'\n",
    "X, y, whole_data = get_data(dataset)"
   ]
  },
  {
   "cell_type": "code",
   "execution_count": 4,
   "metadata": {},
   "outputs": [
    {
     "name": "stdout",
     "output_type": "stream",
     "text": [
      "(1000, 55) (1000,)\n",
      "Index(['chroma_stft_mean', 'chroma_stft_var', 'rms_mean', 'rms_var',\n",
      "       'spectral_centroid_mean', 'spectral_centroid_var',\n",
      "       'spectral_bandwidth_mean', 'spectral_bandwidth_var', 'rolloff_mean',\n",
      "       'rolloff_var', 'zero_crossing_rate_mean', 'zero_crossing_rate_var',\n",
      "       'harmony_mean', 'harmony_var', 'tempo', 'mfcc1_mean', 'mfcc1_var',\n",
      "       'mfcc2_mean', 'mfcc2_var', 'mfcc3_mean', 'mfcc3_var', 'mfcc4_mean',\n",
      "       'mfcc4_var', 'mfcc5_mean', 'mfcc5_var', 'mfcc6_mean', 'mfcc6_var',\n",
      "       'mfcc7_mean', 'mfcc7_var', 'mfcc8_mean', 'mfcc8_var', 'mfcc9_mean',\n",
      "       'mfcc9_var', 'mfcc10_mean', 'mfcc10_var', 'mfcc11_mean', 'mfcc11_var',\n",
      "       'mfcc12_mean', 'mfcc12_var', 'mfcc13_mean', 'mfcc13_var', 'mfcc14_mean',\n",
      "       'mfcc14_var', 'mfcc15_mean', 'mfcc15_var', 'mfcc16_mean', 'mfcc16_var',\n",
      "       'mfcc17_mean', 'mfcc17_var', 'mfcc18_mean', 'mfcc18_var', 'mfcc19_mean',\n",
      "       'mfcc19_var', 'mfcc20_mean', 'mfcc20_var'],\n",
      "      dtype='object')\n"
     ]
    }
   ],
   "source": [
    "print(X.shape, y.shape)\n",
    "print(X.columns)"
   ]
  },
  {
   "cell_type": "markdown",
   "metadata": {},
   "source": [
    "# Preprocessing Data"
   ]
  },
  {
   "cell_type": "code",
   "execution_count": 5,
   "metadata": {},
   "outputs": [],
   "source": [
    "scaler = StandardScaler()\n",
    "X = scaler.fit_transform(X)\n",
    "\n",
    "encoder = LabelEncoder()\n",
    "y = encoder.fit_transform(y)"
   ]
  },
  {
   "cell_type": "code",
   "execution_count": 6,
   "metadata": {},
   "outputs": [
    {
     "name": "stdout",
     "output_type": "stream",
     "text": [
      "0  :  blues\n",
      "1  :  classical\n",
      "2  :  country\n",
      "3  :  disco\n",
      "4  :  hiphop\n",
      "5  :  jazz\n",
      "6  :  metal\n",
      "7  :  pop\n",
      "8  :  reggae\n",
      "9  :  rock\n"
     ]
    }
   ],
   "source": [
    "genres = encoder.inverse_transform(range(0,10))\n",
    "for ind in range(10):\n",
    "    print(ind, ' : ', genres[ind])"
   ]
  },
  {
   "cell_type": "markdown",
   "metadata": {},
   "source": [
    "# Data Visualization"
   ]
  },
  {
   "cell_type": "code",
   "execution_count": 7,
   "metadata": {},
   "outputs": [],
   "source": [
    "def genre_finder(string, genre):\n",
    "    return string.find(genre)!=-1\n",
    "\n",
    "def get_random_songs(genre, num=10):\n",
    "    if( not (genre in genres) ):\n",
    "        return songs\n",
    "    \n",
    "    bools = whole_data.filename.apply(genre_finder, args=(genre,)) \n",
    "\n",
    "    all_songs = whole_data[bools]\n",
    "    \n",
    "    return (all_songs.sample(num))\n",
    "    \n",
    "def get_songs(genre):\n",
    "    if( not (genre in genres) ):\n",
    "        return songs\n",
    "    \n",
    "    bools = whole_data.filename.apply(genre_finder, args=(genre,)) \n",
    "\n",
    "    all_songs = whole_data[bools]\n",
    "    return all_songs\n",
    "    \n",
    "genre_songs = dict()\n",
    "for genre in genres:\n",
    "    genre_songs[genre] = get_songs(genre)"
   ]
  },
  {
   "cell_type": "markdown",
   "metadata": {},
   "source": [
    "# Splitting Data"
   ]
  },
  {
   "cell_type": "code",
   "execution_count": 8,
   "metadata": {},
   "outputs": [
    {
     "name": "stdout",
     "output_type": "stream",
     "text": [
      "(1000, 55)\n",
      "(1000,)\n"
     ]
    }
   ],
   "source": [
    "print(X.shape)\n",
    "print(y.shape)\n",
    "X_train, X_test, y_train, y_test = train_test_split(X, y)"
   ]
  },
  {
   "cell_type": "code",
   "execution_count": 9,
   "metadata": {},
   "outputs": [
    {
     "name": "stdout",
     "output_type": "stream",
     "text": [
      "(750, 55) (750,)\n"
     ]
    }
   ],
   "source": [
    "print(X_train.shape, y_train.shape)"
   ]
  },
  {
   "cell_type": "markdown",
   "metadata": {},
   "source": [
    "# Fitting Model"
   ]
  },
  {
   "cell_type": "code",
   "execution_count": 10,
   "metadata": {},
   "outputs": [],
   "source": [
    "def get_metrics(model, name):\n",
    "    print(classification_report(y_test, model.predict(X_test)))\n",
    "    \n",
    "    confusion_mat = confusion_matrix(y_test, model.predict(X_test))\n",
    "    confusion_df = pd.DataFrame(confusion_mat, index=genres, columns=genres)\n",
    "    ax = plt.axes()\n",
    "    sns.heatmap(confusion_df, annot=True,cmap=\"OrRd\", ax=ax)\n",
    "    ax.set_title(f'{name} Confusion Matrix')"
   ]
  },
  {
   "cell_type": "code",
   "execution_count": 15,
   "metadata": {},
   "outputs": [
    {
     "name": "stdout",
     "output_type": "stream",
     "text": [
      "              precision    recall  f1-score   support\n",
      "\n",
      "           0       0.77      0.85      0.81        20\n",
      "           1       0.89      0.86      0.88        29\n",
      "           2       0.81      0.74      0.77        23\n",
      "           3       0.72      0.69      0.71        26\n",
      "           4       0.69      0.67      0.68        30\n",
      "           5       0.73      0.76      0.75        25\n",
      "           6       0.89      0.80      0.84        30\n",
      "           7       0.91      0.91      0.91        22\n",
      "           8       0.57      0.57      0.57        23\n",
      "           9       0.52      0.64      0.57        22\n",
      "\n",
      "   micro avg       0.75      0.75      0.75       250\n",
      "   macro avg       0.75      0.75      0.75       250\n",
      "weighted avg       0.75      0.75      0.75       250\n",
      "\n",
      "Support Vector Classifier Model Accuracy :  0.748\n"
     ]
    },
    {
     "data": {
      "image/png": "[encoded data removed]",
      "text/plain": [
       "<Figure size 432x288 with 2 Axes>"
      ]
     },
     "metadata": {
      "needs_background": "light"
     },
     "output_type": "display_data"
    }
   ],
   "source": [
    "support_vector_classifier = SVC(probability=True)\n",
    "\n",
    "params = {\n",
    "            'C' : [0.01, 0.1, 1, 10, 100, 1000],\n",
    "            'kernel': ['linear', 'rbf', 'poly']\n",
    "         }\n",
    "support_vector_classifier = GridSearchCV(support_vector_classifier, params)\n",
    "\n",
    "support_vector_classifier.fit(X_train, y_train)\n",
    "\n",
    "get_metrics(support_vector_classifier, 'Support Vector Classifier')\n",
    "\n",
    "print('Support Vector Classifier Model Accuracy : ', support_vector_classifier.score(X_test, y_test))\n",
    "\n",
    "# 30sec Dataset => Support Vector Classifier Model Accuracy :  0.72\n",
    "# 3 sec Dataset => Support Vector Classifier Model Accuracy :  0.74"
   ]
  },
  {
   "cell_type": "code",
   "execution_count": 16,
   "metadata": {},
   "outputs": [
    {
     "name": "stdout",
     "output_type": "stream",
     "text": [
      "{'C': 10, 'kernel': 'rbf'}\n"
     ]
    }
   ],
   "source": [
    "print(support_vector_classifier.best_params_)"
   ]
  },
  {
   "cell_type": "code",
   "execution_count": 17,
   "metadata": {},
   "outputs": [
    {
     "data": {
      "text/html": [
       "<div>\n",
       "<style scoped>\n",
       "    .dataframe tbody tr th:only-of-type {\n",
       "        vertical-align: middle;\n",
       "    }\n",
       "\n",
       "    .dataframe tbody tr th {\n",
       "        vertical-align: top;\n",
       "    }\n",
       "\n",
       "    .dataframe thead th {\n",
       "        text-align: right;\n",
       "    }\n",
       "</style>\n",
       "<table border=\"1\" class=\"dataframe\">\n",
       "  <thead>\n",
       "    <tr style=\"text-align: right;\">\n",
       "      <th></th>\n",
       "      <th>Logistic Regression</th>\n",
       "      <th>KNN Classification</th>\n",
       "      <th>Support Vector Classifier</th>\n",
       "    </tr>\n",
       "  </thead>\n",
       "  <tbody>\n",
       "    <tr>\n",
       "      <th>precision</th>\n",
       "      <td>0.725</td>\n",
       "      <td>0.64</td>\n",
       "      <td>0.77</td>\n",
       "    </tr>\n",
       "    <tr>\n",
       "      <th>recall</th>\n",
       "      <td>0.737</td>\n",
       "      <td>0.62</td>\n",
       "      <td>0.78</td>\n",
       "    </tr>\n",
       "    <tr>\n",
       "      <th>f1-score</th>\n",
       "      <td>0.728</td>\n",
       "      <td>0.62</td>\n",
       "      <td>0.77</td>\n",
       "    </tr>\n",
       "  </tbody>\n",
       "</table>\n",
       "</div>"
      ],
      "text/plain": [
       "           Logistic Regression  KNN Classification  Support Vector Classifier\n",
       "precision                0.725                0.64                       0.77\n",
       "recall                   0.737                0.62                       0.78\n",
       "f1-score                 0.728                0.62                       0.77"
      ]
     },
     "metadata": {},
     "output_type": "display_data"
    }
   ],
   "source": [
    "report = {\n",
    "        'Logistic Regression' : [0.725,0.737, 0.728] ,\n",
    "        'KNN Classification'  : [0.64, 0.62 , 0.62],\n",
    "        'Support Vector Classifier' : [ 0.77,0.78,0.77]\n",
    "}\n",
    "report = pd.DataFrame(report, index=['precision', 'recall', 'f1-score'])\n",
    "display(report)"
   ]
  },
  {
   "cell_type": "markdown",
   "metadata": {},
   "source": [
    "## Support Vector Classifier Param Search"
   ]
  },
  {
   "cell_type": "code",
   "execution_count": 19,
   "metadata": {},
   "outputs": [],
   "source": [
    "C_ = [0.01, 0.1, 1, 10, 100, 1000]\n",
    "accs = []\n",
    "for c in C_:\n",
    "    support_vector_classifier = SVC(C=c)\n",
    "    support_vector_classifier.fit(X_train, y_train)\n",
    "    accs.append(support_vector_classifier.score(X_test, y_test))"
   ]
  },
  {
   "cell_type": "code",
   "execution_count": 20,
   "metadata": {},
   "outputs": [
    {
     "data": {
      "text/plain": [
       "Text(0.5, 1.0, 'Regularization vs Accuracy')"
      ]
     },
     "execution_count": 20,
     "metadata": {},
     "output_type": "execute_result"
    },
    {
     "data": {
      "image/png": "[encoded data removed]",
      "text/plain": [
       "<Figure size 432x288 with 1 Axes>"
      ]
     },
     "metadata": {
      "needs_background": "light"
     },
     "output_type": "display_data"
    }
   ],
   "source": [
    "import matplotlib.pyplot as plt\n",
    "cstr = []\n",
    "for c in C_:\n",
    "    cstr.append(str(c))\n",
    "plt.bar(cstr, accs)\n",
    "plt.xlabel('Regularization Inverse')\n",
    "plt.ylabel('Accuracy')\n",
    "plt.title('Regularization vs Accuracy')"
   ]
  },
  {
   "cell_type": "markdown",
   "metadata": {},
   "source": [
    "# Testing Model"
   ]
  },
  {
   "cell_type": "code",
   "execution_count": 21,
   "metadata": {},
   "outputs": [],
   "source": [
    "def get_features(my_data):\n",
    "    features = {}\n",
    "\n",
    "    features['length']                   = len(my_data)\n",
    "    \n",
    "    features['chroma_stft_mean']         = np.mean(librosa.feature.chroma_stft(my_data))\n",
    "    features['chroma_stft_var']          = np.var(librosa.feature.chroma_stft(my_data))\n",
    "\n",
    "    features['rms_mean']                 = np.mean(librosa.feature.rms(my_data))\n",
    "    features['rms_var']                  = np.var(librosa.feature.rms(my_data))\n",
    "\n",
    "    features['spectral_centroid_mean']   = np.mean(librosa.feature.spectral_centroid(my_data))\n",
    "    features['spectral_centroid_var']    = np.var(librosa.feature.spectral_centroid(my_data))\n",
    "\n",
    "    features['spectral_bandwidth_mean']  = np.mean(librosa.feature.spectral_bandwidth(my_data))\n",
    "    features['spectral_bandwidth_var']   = np.var(librosa.feature.spectral_bandwidth(my_data))\n",
    "    \n",
    "    features['rolloff_mean']             = np.mean(librosa.feature.spectral_rolloff(my_data))\n",
    "    features['rolloff_var']              = np.var(librosa.feature.spectral_rolloff(my_data))\n",
    "    \n",
    "    features['zero_crossing_rate_mean']  = np.mean(librosa.feature.zero_crossing_rate(my_data))\n",
    "    features['zero_crossing_rate_var']   = np.var(librosa.feature.zero_crossing_rate(my_data))\n",
    "    \n",
    "    features['harmony_mean']             = np.mean(librosa.effects.harmonic(my_data))\n",
    "    features['harmony_var']              = np.var(librosa.effects.harmonic(my_data))\n",
    "\n",
    "    features['tempo']                    = librosa.beat.tempo(my_data)\n",
    "    \n",
    "    mfccs = librosa.feature.mfcc(my_data)\n",
    "    for ind, row in enumerate(mfccs):\n",
    "        features[f'mfcc{ind+1}_mean']      = np.mean(mfccs[ind])\n",
    "        features[f'mfcc{ind+1}_var']       = np.var(mfccs[ind])\n",
    "    return features"
   ]
  },
  {
   "cell_type": "code",
   "execution_count": 22,
   "metadata": {},
   "outputs": [],
   "source": [
    "def predict(music_file):\n",
    "    music_data,sr = librosa.load(music_file, duration=30.0)\n",
    "    features = get_features(music_data)\n",
    "    features = pd.DataFrame(features)\n",
    "    features = scaler.transform(features)\n",
    "    return encoder.inverse_transform(model.predict(features))"
   ]
  }
 ],
 "metadata": {
  "kernelspec": {
   "display_name": "Python 3",
   "language": "python",
   "name": "python3"
  },
  "language_info": {
   "codemirror_mode": {
    "name": "ipython",
    "version": 3
   },
   "file_extension": ".py",
   "mimetype": "text/x-python",
   "name": "python",
   "nbconvert_exporter": "python",
   "pygments_lexer": "ipython3",
   "version": "3.7.7"
  }
 },
 "nbformat": 4,
 "nbformat_minor": 4
}
