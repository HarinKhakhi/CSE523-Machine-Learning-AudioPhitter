{
 "cells": [
  {
   "cell_type": "markdown",
   "metadata": {},
   "source": [
    "# Importing Libraries"
   ]
  },
  {
   "cell_type": "code",
   "execution_count": 1,
   "metadata": {
    "executionInfo": {
     "elapsed": 2116,
     "status": "ok",
     "timestamp": 1618088376800,
     "user": {
      "displayName": "Sanket Shah",
      "photoUrl": "",
      "userId": "13576391177312178735"
     },
     "user_tz": -330
    },
    "id": "U9vJjR_Erxhj"
   },
   "outputs": [],
   "source": [
    "import pandas as pd\n",
    "from sklearn.linear_model import LinearRegression\n",
    "from sklearn.metrics import mean_squared_error\n",
    "from sklearn.model_selection import train_test_split\n",
    "from sklearn.preprocessing import PolynomialFeatures\n",
    "import matplotlib.pyplot as plt\n",
    "import numpy as np\n",
    "import time\n",
    "data_file = './Data/Mood_Dataset.csv'"
   ]
  },
  {
   "cell_type": "markdown",
   "metadata": {},
   "source": [
    "# Importing Data "
   ]
  },
  {
   "cell_type": "code",
   "execution_count": 2,
   "metadata": {
    "executionInfo": {
     "elapsed": 2094,
     "status": "ok",
     "timestamp": 1618088376802,
     "user": {
      "displayName": "Sanket Shah",
      "photoUrl": "",
      "userId": "13576391177312178735"
     },
     "user_tz": -330
    },
    "id": "SQkN92R8sOBG"
   },
   "outputs": [],
   "source": [
    "df = pd.read_csv(data_file)"
   ]
  },
  {
   "cell_type": "code",
   "execution_count": 3,
   "metadata": {
    "executionInfo": {
     "elapsed": 2732,
     "status": "ok",
     "timestamp": 1618088377479,
     "user": {
      "displayName": "Sanket Shah",
      "photoUrl": "",
      "userId": "13576391177312178735"
     },
     "user_tz": -330
    },
    "id": "Dy1eqoA0sks1"
   },
   "outputs": [],
   "source": [
    "to_drop = ['happiness','energeticness']\n",
    "X_df = df.drop(to_drop,axis=1)\n",
    "y_df = df[to_drop]"
   ]
  },
  {
   "cell_type": "markdown",
   "metadata": {},
   "source": [
    "# Preprocessing Data"
   ]
  },
  {
   "cell_type": "code",
   "execution_count": 4,
   "metadata": {},
   "outputs": [
    {
     "name": "stderr",
     "output_type": "stream",
     "text": [
      "/Library/Frameworks/Python.framework/Versions/3.7/lib/python3.7/site-packages/sklearn/preprocessing/data.py:625: DataConversionWarning: Data with input dtype int64, float64 were all converted to float64 by StandardScaler.\n",
      "  return self.partial_fit(X, y)\n",
      "/Library/Frameworks/Python.framework/Versions/3.7/lib/python3.7/site-packages/sklearn/base.py:462: DataConversionWarning: Data with input dtype int64, float64 were all converted to float64 by StandardScaler.\n",
      "  return self.fit(X, **fit_params).transform(X)\n"
     ]
    }
   ],
   "source": [
    "from sklearn.preprocessing import StandardScaler\n",
    "\n",
    "scaler = StandardScaler()\n",
    "X = scaler.fit_transform(X_df)"
   ]
  },
  {
   "cell_type": "markdown",
   "metadata": {},
   "source": [
    "# Splitting Data"
   ]
  },
  {
   "cell_type": "code",
   "execution_count": 5,
   "metadata": {
    "executionInfo": {
     "elapsed": 2695,
     "status": "ok",
     "timestamp": 1618088377493,
     "user": {
      "displayName": "Sanket Shah",
      "photoUrl": "",
      "userId": "13576391177312178735"
     },
     "user_tz": -330
    },
    "id": "zqGOg3zgtLmU"
   },
   "outputs": [],
   "source": [
    "X_train, X_test, y_train, y_test = train_test_split(X, y_df)"
   ]
  },
  {
   "cell_type": "markdown",
   "metadata": {},
   "source": [
    "# Applying Inbuilt Linear Regression Model"
   ]
  },
  {
   "cell_type": "code",
   "execution_count": 6,
   "metadata": {
    "executionInfo": {
     "elapsed": 2692,
     "status": "ok",
     "timestamp": 1618088377495,
     "user": {
      "displayName": "Sanket Shah",
      "photoUrl": "",
      "userId": "13576391177312178735"
     },
     "user_tz": -330
    },
    "id": "ZpZ-jk03tW0L"
   },
   "outputs": [
    {
     "data": {
      "text/plain": [
       "LinearRegression(copy_X=True, fit_intercept=True, n_jobs=None,\n",
       "         normalize=False)"
      ]
     },
     "execution_count": 6,
     "metadata": {},
     "output_type": "execute_result"
    }
   ],
   "source": [
    "model = LinearRegression()\n",
    "model.fit(X_train, y_train)"
   ]
  },
  {
   "cell_type": "code",
   "execution_count": 7,
   "metadata": {
    "colab": {
     "base_uri": "https://localhost:8080/"
    },
    "executionInfo": {
     "elapsed": 2679,
     "status": "ok",
     "timestamp": 1618088377497,
     "user": {
      "displayName": "Sanket Shah",
      "photoUrl": "",
      "userId": "13576391177312178735"
     },
     "user_tz": -330
    },
    "id": "ybrjRZgNtyaM",
    "outputId": "fd8523dd-0643-40a9-88cd-ca51c20caeca"
   },
   "outputs": [
    {
     "data": {
      "text/plain": [
       "0.18297425274388912"
      ]
     },
     "execution_count": 7,
     "metadata": {},
     "output_type": "execute_result"
    }
   ],
   "source": [
    "preds = model.predict(X_test)\n",
    "mean_squared_error(y_test,preds)"
   ]
  },
  {
   "cell_type": "markdown",
   "metadata": {},
   "source": [
    "# Creating our own model from Scratch"
   ]
  },
  {
   "cell_type": "code",
   "execution_count": 8,
   "metadata": {
    "executionInfo": {
     "elapsed": 905,
     "status": "ok",
     "timestamp": 1618090750549,
     "user": {
      "displayName": "Sanket Shah",
      "photoUrl": "",
      "userId": "13576391177312178735"
     },
     "user_tz": -330
    },
    "id": "KqMUqBcYuVBa"
   },
   "outputs": [],
   "source": [
    "class LinReg:\n",
    "    def __init__(self, lr=0.01, itr=500):\n",
    "        self.lr = lr\n",
    "        self.itr = itr\n",
    "\n",
    "    # ========  Algorithm  ======== \n",
    "    \n",
    "    '''\n",
    "    fit(X, y) : fitting model to the data X and y.\n",
    "                X is Features\n",
    "                y is target variable\n",
    "    '''\n",
    "    def fit(self, X, y):\n",
    "        # cost_ stores all cost of iterations for plotting in future\n",
    "        self.cost_ = []\n",
    "        # w_ is learable param\n",
    "        self.w_ = np.zeros((X.shape[1], 1))\n",
    "        # m = number of samples\n",
    "        m = X.shape[0]\n",
    "\n",
    "        # running model for 'itr' times\n",
    "        for _ in range(self.itr):\n",
    "            \n",
    "            # predictions of our model\n",
    "            y_pred = np.dot(X, self.w_)\n",
    "\n",
    "            residuals = []\n",
    "            \n",
    "            for indx in range(len(y_pred)):\n",
    "                residuals.append(y_pred[indx] - y[indx])\n",
    "                \n",
    "            residuals = np.array(residuals)\n",
    "\n",
    "            # calculating gradient\n",
    "            gradient_vector = np.dot(X.T, residuals)\n",
    "\n",
    "            \n",
    "            # updating params\n",
    "            self.w_ -= (self.lr / m) * gradient_vector\n",
    "            \n",
    "            # calculating cost\n",
    "            cost = np.sum((residuals ** 2)) / (2 * m)\n",
    "            self.cost_.append(cost)\n",
    "            \n",
    "        return self\n",
    "    '''\n",
    "    predict(X) : returns predictions generated by our model from data X\n",
    "                X is features\n",
    "    '''\n",
    "    def predict(self, X):\n",
    "        return np.dot(X, self.w_)\n",
    "    \n",
    "    # ========  Plotting ======== \n",
    "    def plot_cost(self):\n",
    "        plt.plot(reg1.cost_)\n",
    "        return plt"
   ]
  },
  {
   "cell_type": "code",
   "execution_count": 10,
   "metadata": {
    "executionInfo": {
     "elapsed": 1567,
     "status": "ok",
     "timestamp": 1618090752577,
     "user": {
      "displayName": "Sanket Shah",
      "photoUrl": "",
      "userId": "13576391177312178735"
     },
     "user_tz": -330
    },
    "id": "B7z_yt7ufT95"
   },
   "outputs": [
    {
     "name": "stdout",
     "output_type": "stream",
     "text": [
      "0.2459399555867481\n"
     ]
    }
   ],
   "source": [
    "reg1 = LinReg()\n",
    "y_train_h = np.array(y_train['happiness'])\n",
    "y_train_h.reshape(514, 1)\n",
    "\n",
    "reg1 = reg1.fit(X_train, y_train_h)\n",
    "\n",
    "preds1 = reg1.predict(X_test)\n",
    "print(mean_squared_error(preds1, y_test['happiness']))"
   ]
  },
  {
   "cell_type": "code",
   "execution_count": 11,
   "metadata": {},
   "outputs": [
    {
     "data": {
      "text/plain": [
       "Text(0, 0.5, 'Cost')"
      ]
     },
     "execution_count": 11,
     "metadata": {},
     "output_type": "execute_result"
    },
    {
     "data": {
      "image/png": "[encoded data removed]",
      "text/plain": [
       "<Figure size 432x288 with 1 Axes>"
      ]
     },
     "metadata": {
      "needs_background": "light"
     },
     "output_type": "display_data"
    }
   ],
   "source": [
    "cost_plt1 = reg1.plot_cost()\n",
    "cost_plt1.title('Happiness RMSE')\n",
    "cost_plt1.xlabel('Iterations')\n",
    "cost_plt1.ylabel('Cost')"
   ]
  },
  {
   "cell_type": "code",
   "execution_count": 12,
   "metadata": {
    "id": "BSppsnJkqkqE"
   },
   "outputs": [
    {
     "data": {
      "text/plain": [
       "<__main__.LinReg at 0x7fa6f7395b50>"
      ]
     },
     "execution_count": 12,
     "metadata": {},
     "output_type": "execute_result"
    }
   ],
   "source": [
    "reg2 = LinReg()\n",
    "y_train_e = np.array(y_train['energeticness'])\n",
    "y_train_e.reshape(514, 1)\n",
    "\n",
    "reg2.fit(X_train,y_train_h)"
   ]
  },
  {
   "cell_type": "code",
   "execution_count": 13,
   "metadata": {},
   "outputs": [
    {
     "name": "stdout",
     "output_type": "stream",
     "text": [
      "0.42780197524354246\n"
     ]
    }
   ],
   "source": [
    "preds2 = reg2.predict(X_test)\n",
    "print(mean_squared_error(preds2, y_test['energeticness']))"
   ]
  },
  {
   "cell_type": "code",
   "execution_count": 14,
   "metadata": {},
   "outputs": [
    {
     "data": {
      "text/plain": [
       "Text(0, 0.5, 'Cost')"
      ]
     },
     "execution_count": 14,
     "metadata": {},
     "output_type": "execute_result"
    },
    {
     "data": {
      "image/png": "[encoded data removed]",
      "text/plain": [
       "<Figure size 432x288 with 1 Axes>"
      ]
     },
     "metadata": {
      "needs_background": "light"
     },
     "output_type": "display_data"
    }
   ],
   "source": [
    "cost_plt2 = reg2.plot_cost()\n",
    "cost_plt1.title('Energeticness RMSE')\n",
    "cost_plt1.xlabel('Iterations')\n",
    "cost_plt1.ylabel('Cost')"
   ]
  }
 ],
 "metadata": {
  "colab": {
   "authorship_tag": "ABX9TyNNA6T3RUNuxm5kM4Mv4d/W",
   "mount_file_id": "1FekC3Mw6DGlvvYNvbNZZYbiKfe7QQA5t",
   "name": "Mood_Regression.ipynb",
   "provenance": []
  },
  "kernelspec": {
   "display_name": "Python 3",
   "language": "python",
   "name": "python3"
  },
  "language_info": {
   "codemirror_mode": {
    "name": "ipython",
    "version": 3
   },
   "file_extension": ".py",
   "mimetype": "text/x-python",
   "name": "python",
   "nbconvert_exporter": "python",
   "pygments_lexer": "ipython3",
   "version": "3.7.7"
  }
 },
 "nbformat": 4,
 "nbformat_minor": 1
}
